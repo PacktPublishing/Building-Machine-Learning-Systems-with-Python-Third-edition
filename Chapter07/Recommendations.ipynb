{
 "cells": [
  {
   "cell_type": "markdown",
   "metadata": {},
   "source": [
    "# Recommendations"
   ]
  },
  {
   "cell_type": "code",
   "execution_count": 1,
   "metadata": {
    "collapsed": true
   },
   "outputs": [],
   "source": [
    "import numpy as np\n",
    "from matplotlib import pyplot as plt"
   ]
  },
  {
   "cell_type": "markdown",
   "metadata": {},
   "source": [
    "Make plots inline"
   ]
  },
  {
   "cell_type": "code",
   "execution_count": 2,
   "metadata": {
    "collapsed": true
   },
   "outputs": [],
   "source": [
    "%matplotlib inline"
   ]
  },
  {
   "cell_type": "markdown",
   "metadata": {},
   "source": [
    "Load the data"
   ]
  },
  {
   "cell_type": "code",
   "execution_count": 3,
   "metadata": {
    "collapsed": true
   },
   "outputs": [],
   "source": [
    "def load():\n",
    "    from scipy import sparse\n",
    "\n",
    "    data = np.loadtxt('data/ml-100k/u.data')\n",
    "    ij = data[:, :2]\n",
    "    ij -= 1  # original data is in 1-based system\n",
    "    values = data[:, 2]\n",
    "    reviews = sparse.csc_matrix((values, ij.T)).astype(float)\n",
    "    return reviews.toarray()\n",
    "reviews = load()\n",
    "U,M = np.where(reviews)"
   ]
  },
  {
   "cell_type": "markdown",
   "metadata": {},
   "source": [
    "Split the data into training/testing:"
   ]
  },
  {
   "cell_type": "code",
   "execution_count": 4,
   "metadata": {},
   "outputs": [],
   "source": [
    "def get_train_test(reviews):\n",
    "    import random\n",
    "    test_idxs = np.array(random.sample(range(len(U)), len(U)//10))\n",
    "\n",
    "    train = reviews.copy()\n",
    "    train[U[test_idxs], M[test_idxs]] = 0\n",
    "\n",
    "    test = np.zeros_like(reviews)\n",
    "    test[U[test_idxs], M[test_idxs]] = reviews[U[test_idxs], M[test_idxs]]\n",
    "    return train, test\n",
    "\n",
    "train, test = get_train_test(reviews)"
   ]
  },
  {
   "cell_type": "markdown",
   "metadata": {},
   "source": [
    "For normalization, we make a class that _follows the scikit-learn API_:"
   ]
  },
  {
   "cell_type": "code",
   "execution_count": 5,
   "metadata": {
    "collapsed": true
   },
   "outputs": [],
   "source": [
    "class NormalizePositive(object):\n",
    "    def __init__(self, axis=0):\n",
    "        self.axis = axis\n",
    "\n",
    "    def fit(self, features, y=None):\n",
    "        if self.axis == 1:\n",
    "            features = features.T\n",
    "          #  count features that are greater than zero in axis 0:\n",
    "        binary = (features > 0)\n",
    "\n",
    "        count0 = binary.sum(axis=0)\n",
    "\n",
    "         # to avoid division by zero, set zero counts to one:\n",
    "        count0[count0 == 0] = 1.\n",
    "\n",
    "         # computing the mean is easy:\n",
    "        self.mean = features.sum(axis=0)/count0\n",
    "\n",
    "        # only consider differences where binary is True:\n",
    "        diff = (features - self.mean) * binary\n",
    "        diff **= 2\n",
    "        # regularize the estimate of std by adding 0.1\n",
    "        self.std = np.sqrt(0.1 + diff.sum(axis=0)/count0)\n",
    "        return self\n",
    "\n",
    "\n",
    "    def transform(self, features):\n",
    "        if self.axis == 1:\n",
    "            features = features.T\n",
    "        binary = (features > 0)\n",
    "        features = features - self.mean\n",
    "        features /= self.std\n",
    "        features *= binary\n",
    "        if self.axis == 1:\n",
    "            features = features.T\n",
    "        return features\n",
    "\n",
    "    def inverse_transform(self, features, copy=True):\n",
    "        if copy:\n",
    "            features = features.copy()\n",
    "        if self.axis == 1:\n",
    "            features = features.T\n",
    "        features *= self.std\n",
    "        features += self.mean\n",
    "        if self.axis == 1:\n",
    "            features = features.T\n",
    "        return features\n",
    "\n",
    "    def fit_transform(self, features):\n",
    "        return self.fit(features).transform(features)"
   ]
  },
  {
   "cell_type": "markdown",
   "metadata": {},
   "source": [
    "We can quickly visualize the matrix to see what our data looks like:"
   ]
  },
  {
   "cell_type": "code",
   "execution_count": 6,
   "metadata": {},
   "outputs": [
    {
     "data": {
      "image/png": "[encoded data removed]",
      "text/plain": [
       "<matplotlib.figure.Figure at 0x7f9967b2a128>"
      ]
     },
     "metadata": {},
     "output_type": "display_data"
    }
   ],
   "source": [
    "binary = (train > 0)\n",
    "fig,ax = plt.subplots()\n",
    "# plot just 200x200 area for space reasons\n",
    "ax.imshow(binary[:200, :200], interpolation='nearest')\n",
    "ax.set_xlabel('User ID')\n",
    "ax.set_ylabel('User ID')\n",
    "fig.savefig('IMG_REC_01.png', dpi=300)"
   ]
  },
  {
   "cell_type": "code",
   "execution_count": 7,
   "metadata": {
    "collapsed": true,
    "scrolled": true
   },
   "outputs": [],
   "source": [
    "def predict_positive_nn(otrain, necessary=None):\n",
    "    from scipy.spatial import distance\n",
    "    binary = (otrain > 0)\n",
    "    norm = NormalizePositive(axis=1)\n",
    "    train = norm.fit_transform(otrain)\n",
    "    \n",
    "    # compute all pair-wise distances:\n",
    "    dists = distance.pdist(binary, 'correlation')\n",
    "    # Convert to square form, so that `dists[i,j]`\n",
    "    # contains the distance between `binary[i]` and `binary[j]`:\n",
    "    dists = distance.squareform(dists)\n",
    "\n",
    "    neighbors = dists.argsort(axis=1)\n",
    "    filled = train.copy()\n",
    "    for u in range(filled.shape[0]):\n",
    "        # n_u are the neighbors of user\n",
    "        n_u = neighbors[u, 1:]\n",
    "        for m in range(filled.shape[1]):\n",
    "            if necessary is not None and not necessary[u, m]:\n",
    "                continue\n",
    "            # This code could be faster using numpy indexing trickery as the\n",
    "            # cost of readibility (this is left as an exercise to the reader):\n",
    "            revs = [train[neigh, m]\n",
    "                    for neigh in n_u\n",
    "                    if binary[neigh, m]]\n",
    "            if len(revs):\n",
    "                n = len(revs)\n",
    "                n //= 2\n",
    "                n += 1\n",
    "                revs = revs[:n]\n",
    "                filled[u,m] = np.mean(revs)\n",
    "    # Finally, undo the normalization to get back the final reusl\n",
    "    return norm.inverse_transform(filled)\n"
   ]
  },
  {
   "cell_type": "markdown",
   "metadata": {},
   "source": [
    "Call the `predict_positive_nn` function"
   ]
  },
  {
   "cell_type": "code",
   "execution_count": 8,
   "metadata": {},
   "outputs": [],
   "source": [
    "predicted = predict_positive_nn(train, test != 0)"
   ]
  },
  {
   "cell_type": "markdown",
   "metadata": {},
   "source": [
    "We can use the R² metric to evaluate how well we do"
   ]
  },
  {
   "cell_type": "code",
   "execution_count": 9,
   "metadata": {},
   "outputs": [
    {
     "name": "stdout",
     "output_type": "stream",
     "text": [
      "R2 score (binary user neighbors): 30.4%\n"
     ]
    }
   ],
   "source": [
    "from sklearn import metrics\n",
    "r2 = metrics.r2_score(test[test != 0], predicted[test != 0])\n",
    "print('R2 score (binary user neighbors): {:.1%}'.format(r2))"
   ]
  },
  {
   "cell_type": "code",
   "execution_count": 10,
   "metadata": {},
   "outputs": [
    {
     "name": "stdout",
     "output_type": "stream",
     "text": [
      "R2 score (binary movie neighbors): 31.5%\n"
     ]
    }
   ],
   "source": [
    "predicted = predict_positive_nn(train.T, (test != 0).T).T\n",
    "r2 = metrics.r2_score(test[test > 0], predicted[test > 0])\n",
    "print('R2 score (binary movie neighbors): {:.1%}'.format(r2))"
   ]
  },
  {
   "cell_type": "markdown",
   "metadata": {},
   "source": [
    "## Regression for recommendations\n"
   ]
  },
  {
   "cell_type": "markdown",
   "metadata": {},
   "source": [
    "We can use regression for recommendations as well"
   ]
  },
  {
   "cell_type": "code",
   "execution_count": 11,
   "metadata": {
    "collapsed": true
   },
   "outputs": [],
   "source": [
    "def predict_regression(otrain):\n",
    "    from sklearn.linear_model import ElasticNetCV\n",
    "    binary = (otrain > 0)\n",
    "    norm = NormalizePositive(axis=1)\n",
    "    train = norm.fit_transform(otrain)\n",
    "\n",
    "    reg = ElasticNetCV(alphas=[\n",
    "                           0.0125, 0.025, 0.05, .125, .25, .5, 1., 2., 4.])\n",
    "    filled = train.copy()\n",
    "    # iterate over all users:\n",
    "    for u in range(train.shape[0]):\n",
    "        curtrain = np.delete(train, u, axis=0)\n",
    "        bu = binary[u]\n",
    "        if np.sum(bu) > 10:\n",
    "            reg.fit(curtrain[:,bu].T, train[u, bu])\n",
    "            # Fill the values that were not there already\n",
    "            filled[u, ~bu] = reg.predict(curtrain[:,~bu].T)\n",
    "    return norm.inverse_transform(filled)"
   ]
  },
  {
   "cell_type": "code",
   "execution_count": 12,
   "metadata": {
    "scrolled": true
   },
   "outputs": [
    {
     "name": "stdout",
     "output_type": "stream",
     "text": [
      "R2 score (user regression): 28.6%\n"
     ]
    }
   ],
   "source": [
    "predicted = predict_regression(train)\n",
    "r2 = metrics.r2_score(test[test > 0], predicted[test > 0])\n",
    "print('R2 score (user regression): {:.1%}'.format(r2))"
   ]
  },
  {
   "cell_type": "code",
   "execution_count": 13,
   "metadata": {
    "scrolled": true
   },
   "outputs": [
    {
     "name": "stdout",
     "output_type": "stream",
     "text": [
      "R2 score (movie regression): 26.2%\n"
     ]
    }
   ],
   "source": [
    "predicted = predict_regression(train.T).T\n",
    "r2 = metrics.r2_score(test[test > 0], predicted[test > 0])\n",
    "print('R2 score (movie regression): {:.1%}'.format(r2))"
   ]
  },
  {
   "cell_type": "markdown",
   "metadata": {},
   "source": [
    "## Combining multiple methods"
   ]
  },
  {
   "cell_type": "code",
   "execution_count": 14,
   "metadata": {
    "collapsed": true
   },
   "outputs": [],
   "source": [
    "def predict_stacked(train):\n",
    "    from sklearn import linear_model\n",
    "    tr_train,tr_test = get_train_test(train)\n",
    "    tr_predicted0 = predict_positive_nn(tr_train, tr_test != 0)\n",
    "    tr_predicted1 = predict_positive_nn(tr_train.T, (tr_test != 0).T).T\n",
    "    tr_predicted2 = predict_regression(tr_train)\n",
    "    tr_predicted3 = predict_regression(tr_train.T).T\n",
    "    stack_tr = np.array([\n",
    "        tr_predicted0[tr_test > 0],\n",
    "        tr_predicted1[tr_test > 0],\n",
    "        tr_predicted2[tr_test > 0],\n",
    "        tr_predicted3[tr_test > 0],\n",
    "        ]).T\n",
    "\n",
    "    lr = linear_model.LinearRegression()\n",
    "    lr.fit(stack_tr, tr_test[tr_test > 0])\n",
    "\n",
    "    stack_te = np.array([\n",
    "        tr_predicted0.ravel(),\n",
    "        tr_predicted1.ravel(),\n",
    "        tr_predicted2.ravel(),\n",
    "        tr_predicted3.ravel(),\n",
    "        ]).T\n",
    "\n",
    "    return lr.predict(stack_te).reshape(train.shape)"
   ]
  },
  {
   "cell_type": "markdown",
   "metadata": {},
   "source": [
    "We can use the same evaluation as before:"
   ]
  },
  {
   "cell_type": "code",
   "execution_count": 15,
   "metadata": {},
   "outputs": [
    {
     "name": "stdout",
     "output_type": "stream",
     "text": [
      "R2 score (stacked prediction): 32.0%\n"
     ]
    }
   ],
   "source": [
    "predicted = predict_stacked(train)\n",
    "r2 = metrics.r2_score(test[test > 0], predicted[test > 0])\n",
    "print('R2 score (stacked prediction): {:.1%}'.format(r2))"
   ]
  },
  {
   "cell_type": "markdown",
   "metadata": {},
   "source": [
    "# SHOPPING BASKET ANALYSIS\n",
    "This is the slow version of the code, which will take a long time to complete."
   ]
  },
  {
   "cell_type": "code",
   "execution_count": 16,
   "metadata": {
    "collapsed": true
   },
   "outputs": [],
   "source": [
    "from collections import defaultdict\n",
    "from itertools import chain"
   ]
  },
  {
   "cell_type": "markdown",
   "metadata": {},
   "source": [
    "You **must** have downloaded the data before running this analysis. The data is downloaded as a compressed file"
   ]
  },
  {
   "cell_type": "code",
   "execution_count": 17,
   "metadata": {
    "collapsed": true
   },
   "outputs": [],
   "source": [
    "import gzip\n",
    "# file format is a line per transaction\n",
    "# of the form '12 34 342 5...'\n",
    "dataset = [[int(tok) for tok in line.strip().split()]\n",
    "       for line in gzip.open('data/retail.dat.gz')]\n",
    "dataset = [set(d) for d in dataset]"
   ]
  },
  {
   "cell_type": "markdown",
   "metadata": {},
   "source": [
    "Count how often each product was purchased:"
   ]
  },
  {
   "cell_type": "code",
   "execution_count": 18,
   "metadata": {
    "collapsed": true
   },
   "outputs": [],
   "source": [
    "counts = defaultdict(int)\n",
    "for elem in chain(*dataset):\n",
    "    counts[elem] += 1"
   ]
  },
  {
   "cell_type": "markdown",
   "metadata": {},
   "source": [
    "Print a little histogram:"
   ]
  },
  {
   "cell_type": "code",
   "execution_count": 19,
   "metadata": {},
   "outputs": [
    {
     "name": "stdout",
     "output_type": "stream",
     "text": [
      " Nr of baskets | Nr of products\n",
      "--------------------------------\n",
      "     1 -   2   |         2224\n",
      "     2 -   4   |         2438\n",
      "     4 -   8   |         2508\n",
      "     8 -  16   |         2251\n",
      "    16 -  32   |         2182\n",
      "    32 -  64   |         1940\n",
      "    64 - 128   |         1523\n",
      "   128 - 512   |         1225\n",
      "   512 -       |          179\n"
     ]
    }
   ],
   "source": [
    "countsv = np.array(list(counts.values()))\n",
    "bins = [1, 2, 4, 8, 16, 32, 64, 128, 512]\n",
    "print(' {0:11} | {1:12}'.format('Nr of baskets', 'Nr of products'))\n",
    "print('--------------------------------')\n",
    "for i in range(len(bins)):\n",
    "    bot = bins[i]\n",
    "    top = (bins[i + 1] if (i + 1) < len(bins) else 100000000000)\n",
    "    print('  {0:4} - {1:3}   | {2:12}'.format(\n",
    "        bot, (top if top < 1000 else ''), np.sum((countsv >= bot) & (countsv < top))))"
   ]
  },
  {
   "cell_type": "code",
   "execution_count": null,
   "metadata": {},
   "outputs": [],
   "source": [
    "minsupport = 100\n",
    "valid = set(k for k,v in counts.items() if (v >= minsupport))\n",
    "dataset = [(valid&d) for d in dataset if len(valid&d)]\n",
    "\n",
    "baskets = defaultdict(set)\n",
    "\n",
    "for i, ds in enumerate(dataset):                  \n",
    "    for ell in ds:\n",
    "        baskets[ell].add(i)       "
   ]
  },
  {
   "cell_type": "code",
   "execution_count": null,
   "metadata": {},
   "outputs": [
    {
     "name": "stdout",
     "output_type": "stream",
     "text": [
      "0\n",
      "1\n"
     ]
    }
   ],
   "source": [
    "itemsets = [frozenset([v]) for v in valid]\n",
    "freqsets = []\n",
    "for i in range(16):\n",
    "    print(i)\n",
    "    nextsets = []\n",
    "    tested = set()\n",
    "    # Create a new candidate set by adding v to it\n",
    "    c_list = [(it | frozenset([v])) for it in itemsets for v in valid if v not in it]\n",
    "    for c in c_list:\n",
    "        # check if we have tested it already\n",
    "        if c in tested:\n",
    "            continue\n",
    "        tested.add(c)\n",
    "        candidates = set()\n",
    "        for elem in c:\n",
    "            candidates.update(baskets[elem])\n",
    "        support_c = sum(1 for d in candidates if dataset[d].issuperset(c))\n",
    "        if support_c > minsupport:\n",
    "            nextsets.append(c)\n",
    "    freqsets.extend(nextsets)\n",
    "    itemsets = nextsets\n",
    "    if not len(itemsets):\n",
    "        break\n",
    "print(\"Finished!\")\n"
   ]
  },
  {
   "cell_type": "markdown",
   "metadata": {},
   "source": [
    "Now, we can _mine the baskets for interesting association rules_"
   ]
  },
  {
   "cell_type": "code",
   "execution_count": null,
   "metadata": {
    "collapsed": true
   },
   "outputs": [],
   "source": [
    "minlift = 5.0\n",
    "nr_transactions = float(len(dataset))\n",
    "for itemset in freqsets:\n",
    "    for item in itemset:\n",
    "        consequent = frozenset([item])\n",
    "        antecedent = itemset-consequent\n",
    "        base = 0.0\n",
    "        # acount: antecedent count\n",
    "        acount = 0.0\n",
    "\n",
    "        # ccount : consequent count\n",
    "        ccount = 0.0\n",
    "        for d in dataset:\n",
    "          if item in d: base += 1\n",
    "          if d.issuperset(itemset): ccount += 1\n",
    "          if d.issuperset(antecedent): acount += 1\n",
    "        base /= nr_transactions\n",
    "        p_y_given_x = ccount/acount\n",
    "        lift = p_y_given_x / base\n",
    "        if lift > minlift:\n",
    "            print('Rule {0} ->  {1} has lift {2}'\n",
    "                  .format(antecedent, consequent,lift))"
   ]
  }
 ],
 "metadata": {
  "kernelspec": {
   "display_name": "Python 3",
   "language": "python",
   "name": "python3"
  },
  "language_info": {
   "codemirror_mode": {
    "name": "ipython",
    "version": 3
   },
   "file_extension": ".py",
   "mimetype": "text/x-python",
   "name": "python",
   "nbconvert_exporter": "python",
   "pygments_lexer": "ipython3",
   "version": "3.6.2"
  }
 },
 "nbformat": 4,
 "nbformat_minor": 2
}
